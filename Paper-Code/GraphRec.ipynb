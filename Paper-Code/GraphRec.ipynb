{
 "cells": [
  {
   "cell_type": "code",
   "execution_count": 1,
   "metadata": {},
   "outputs": [
    {
     "name": "stdout",
     "output_type": "stream",
     "text": [
      "Cloning into 'GraphRec-WWW19'...\n",
      "remote: Enumerating objects: 91, done.\u001b[K\n",
      "remote: Counting objects: 100% (91/91), done.\u001b[K\n",
      "remote: Compressing objects: 100% (82/82), done.\u001b[K\n",
      "remote: Total 91 (delta 36), reused 28 (delta 5), pack-reused 0\u001b[K\n",
      "Unpacking objects: 100% (91/91), done.\n",
      "Checking connectivity... done.\n"
     ]
    }
   ],
   "source": [
    "! git clone https://github.com/chaitanyakasaraneni/GraphRec-WWW19.git"
   ]
  },
  {
   "cell_type": "code",
   "execution_count": 2,
   "metadata": {},
   "outputs": [
    {
     "name": "stdout",
     "output_type": "stream",
     "text": [
      "/home/joshuali/Desktop/GraphRec-WWW19\n"
     ]
    }
   ],
   "source": [
    "%cd GraphRec-WWW19"
   ]
  },
  {
   "cell_type": "code",
   "execution_count": 8,
   "metadata": {},
   "outputs": [
    {
     "name": "stdout",
     "output_type": "stream",
     "text": [
      "\n",
      "Pickle File Exists, No need to generate one....\n",
      "\n",
      "\n",
      "***** Data Loaded ****\n",
      "\n",
      "[1,     0] loss: 0.091, The best rmse/mae: 9999.000000 / 9999.000000\n",
      "[1,   100] loss: 7.231, The best rmse/mae: 9999.000000 / 9999.000000\n",
      "rmse: 2.4782, mae:2.3180 \n",
      "[2,     0] loss: 0.051, The best rmse/mae: 2.478178 / 2.317966\n",
      "[2,   100] loss: 4.090, The best rmse/mae: 2.478178 / 2.317966\n",
      "rmse: 1.7463, mae:1.5769 \n",
      "[3,     0] loss: 0.028, The best rmse/mae: 1.746274 / 1.576917\n",
      "[3,   100] loss: 2.071, The best rmse/mae: 1.746274 / 1.576917\n",
      "rmse: 1.0745, mae:0.8829 \n",
      "[4,     0] loss: 0.018, The best rmse/mae: 1.074542 / 0.882948\n",
      "[4,   100] loss: 1.417, The best rmse/mae: 1.074542 / 0.882948\n",
      "rmse: 0.8651, mae:0.6770 \n",
      "[5,     0] loss: 0.013, The best rmse/mae: 0.865118 / 0.676951\n",
      "[5,   100] loss: 1.263, The best rmse/mae: 0.865118 / 0.676951\n",
      "rmse: 0.8316, mae:0.6362 \n",
      "[6,     0] loss: 0.011, The best rmse/mae: 0.831619 / 0.636245\n",
      "[6,   100] loss: 1.125, The best rmse/mae: 0.831619 / 0.636245\n",
      "rmse: 0.8294, mae:0.6394 \n",
      "[7,     0] loss: 0.011, The best rmse/mae: 0.829436 / 0.639413\n",
      "[7,   100] loss: 1.040, The best rmse/mae: 0.829436 / 0.639413\n",
      "rmse: 0.8345, mae:0.6362 \n",
      "[8,     0] loss: 0.008, The best rmse/mae: 0.829436 / 0.639413\n",
      "[8,   100] loss: 0.985, The best rmse/mae: 0.829436 / 0.639413\n",
      "rmse: 0.8150, mae:0.6432 \n",
      "[9,     0] loss: 0.011, The best rmse/mae: 0.815033 / 0.643187\n",
      "[9,   100] loss: 0.931, The best rmse/mae: 0.815033 / 0.643187\n",
      "rmse: 0.8182, mae:0.6361 \n",
      "[10,     0] loss: 0.012, The best rmse/mae: 0.815033 / 0.643187\n",
      "[10,   100] loss: 0.889, The best rmse/mae: 0.815033 / 0.643187\n",
      "rmse: 0.8265, mae:0.6252 \n",
      "[11,     0] loss: 0.013, The best rmse/mae: 0.815033 / 0.643187\n",
      "[11,   100] loss: 0.863, The best rmse/mae: 0.815033 / 0.643187\n",
      "rmse: 0.8129, mae:0.6482 \n",
      "[12,     0] loss: 0.008, The best rmse/mae: 0.812946 / 0.648178\n",
      "[12,   100] loss: 0.843, The best rmse/mae: 0.812946 / 0.648178\n",
      "rmse: 0.8419, mae:0.6354 \n",
      "[13,     0] loss: 0.009, The best rmse/mae: 0.812946 / 0.648178\n",
      "[13,   100] loss: 0.812, The best rmse/mae: 0.812946 / 0.648178\n",
      "rmse: 0.8453, mae:0.6673 \n",
      "[14,     0] loss: 0.007, The best rmse/mae: 0.812946 / 0.648178\n",
      "[14,   100] loss: 0.799, The best rmse/mae: 0.812946 / 0.648178\n",
      "rmse: 0.8385, mae:0.6308 \n",
      "[15,     0] loss: 0.008, The best rmse/mae: 0.812946 / 0.648178\n",
      "[15,   100] loss: 0.762, The best rmse/mae: 0.812946 / 0.648178\n",
      "rmse: 0.8270, mae:0.6526 \n",
      "[16,     0] loss: 0.009, The best rmse/mae: 0.812946 / 0.648178\n",
      "[16,   100] loss: 0.746, The best rmse/mae: 0.812946 / 0.648178\n",
      "rmse: 0.8109, mae:0.6178 \n",
      "[17,     0] loss: 0.007, The best rmse/mae: 0.810880 / 0.617830\n",
      "[17,   100] loss: 0.737, The best rmse/mae: 0.810880 / 0.617830\n",
      "rmse: 0.8650, mae:0.6852 \n",
      "[18,     0] loss: 0.008, The best rmse/mae: 0.810880 / 0.617830\n",
      "[18,   100] loss: 0.718, The best rmse/mae: 0.810880 / 0.617830\n",
      "rmse: 0.8113, mae:0.6356 \n",
      "[19,     0] loss: 0.006, The best rmse/mae: 0.810880 / 0.617830\n",
      "[19,   100] loss: 0.695, The best rmse/mae: 0.810880 / 0.617830\n",
      "rmse: 0.8036, mae:0.6362 \n",
      "[20,     0] loss: 0.006, The best rmse/mae: 0.803551 / 0.636187\n",
      "[20,   100] loss: 0.690, The best rmse/mae: 0.803551 / 0.636187\n",
      "rmse: 0.8051, mae:0.6369 \n",
      "[21,     0] loss: 0.005, The best rmse/mae: 0.803551 / 0.636187\n",
      "[21,   100] loss: 0.681, The best rmse/mae: 0.803551 / 0.636187\n",
      "rmse: 0.8249, mae:0.6243 \n",
      "[22,     0] loss: 0.005, The best rmse/mae: 0.803551 / 0.636187\n",
      "[22,   100] loss: 0.667, The best rmse/mae: 0.803551 / 0.636187\n",
      "rmse: 0.8020, mae:0.6282 \n",
      "[23,     0] loss: 0.006, The best rmse/mae: 0.802001 / 0.628220\n",
      "[23,   100] loss: 0.653, The best rmse/mae: 0.802001 / 0.628220\n",
      "rmse: 0.8034, mae:0.6243 \n",
      "[24,     0] loss: 0.006, The best rmse/mae: 0.802001 / 0.628220\n",
      "[24,   100] loss: 0.648, The best rmse/mae: 0.802001 / 0.628220\n",
      "rmse: 0.8053, mae:0.6306 \n",
      "[25,     0] loss: 0.006, The best rmse/mae: 0.802001 / 0.628220\n",
      "[25,   100] loss: 0.634, The best rmse/mae: 0.802001 / 0.628220\n",
      "rmse: 0.8071, mae:0.6351 \n",
      "[26,     0] loss: 0.006, The best rmse/mae: 0.802001 / 0.628220\n",
      "[26,   100] loss: 0.631, The best rmse/mae: 0.802001 / 0.628220\n",
      "rmse: 0.8178, mae:0.6325 \n",
      "[27,     0] loss: 0.008, The best rmse/mae: 0.802001 / 0.628220\n",
      "[27,   100] loss: 0.617, The best rmse/mae: 0.802001 / 0.628220\n",
      "rmse: 0.8050, mae:0.6314 \n",
      "[28,     0] loss: 0.006, The best rmse/mae: 0.802001 / 0.628220\n",
      "[28,   100] loss: 0.621, The best rmse/mae: 0.802001 / 0.628220\n",
      "rmse: 0.8136, mae:0.6486 \n"
     ]
    }
   ],
   "source": [
    "! python3 run_GraphRec_example.py"
   ]
  },
  {
   "cell_type": "code",
   "execution_count": null,
   "metadata": {},
   "outputs": [],
   "source": []
  }
 ],
 "metadata": {
  "kernelspec": {
   "display_name": "Python 3",
   "language": "python",
   "name": "python3"
  },
  "language_info": {
   "codemirror_mode": {
    "name": "ipython",
    "version": 3
   },
   "file_extension": ".py",
   "mimetype": "text/x-python",
   "name": "python",
   "nbconvert_exporter": "python",
   "pygments_lexer": "ipython3",
   "version": "3.7.3"
  }
 },
 "nbformat": 4,
 "nbformat_minor": 2
}
